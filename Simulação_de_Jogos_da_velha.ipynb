{
  "nbformat": 4,
  "nbformat_minor": 0,
  "metadata": {
    "colab": {
      "name": "Simulação de Jogos: Tic Tac Toe",
      "provenance": [],
      "collapsed_sections": [],
      "authorship_tag": "ABX9TyPuaEvwjcHmyQU+CAIe6KHL",
      "include_colab_link": true
    },
    "kernelspec": {
      "name": "python3",
      "display_name": "Python 3"
    },
    "language_info": {
      "name": "python"
    }
  },
  "cells": [
    {
      "cell_type": "markdown",
      "metadata": {
        "id": "view-in-github",
        "colab_type": "text"
      },
      "source": [
        "<a href=\"https://colab.research.google.com/github/PedroHVe/BOT/blob/main/Simula%C3%A7%C3%A3o_de_Jogos_da_velha.ipynb\" target=\"_parent\"><img src=\"https://colab.research.google.com/assets/colab-badge.svg\" alt=\"Open In Colab\"/></a>"
      ]
    },
    {
      "cell_type": "code",
      "metadata": {
        "id": "yGD3pM72a4gj"
      },
      "source": [
        "import numpy as np\n",
        "import random\n",
        "from time import sleep"
      ],
      "execution_count": 1,
      "outputs": []
    },
    {
      "cell_type": "code",
      "metadata": {
        "id": "owQG6CrDbTNE"
      },
      "source": [
        "# cria o tabuleiro vazio\n",
        "def create_board():\n",
        "  return(\n",
        "      np.array([\n",
        "                [0, 0, 0],\n",
        "                [0, 0, 0],\n",
        "                [0, 0, 0]]\n",
        "               )\n",
        "  )"
      ],
      "execution_count": 2,
      "outputs": []
    },
    {
      "cell_type": "code",
      "metadata": {
        "id": "rD0yR0qqbVnF"
      },
      "source": [
        "# verifica se existem espaços vazios\n",
        "def possibilities(board):\n",
        "  l = []\n",
        "  for i in range(len(board)):\n",
        "    for j in range(len(board)):\n",
        "      if (board[i][j] == 0):\n",
        "        l.append((i, j))\n",
        "  return l"
      ],
      "execution_count": 3,
      "outputs": []
    },
    {
      "cell_type": "code",
      "metadata": {
        "id": "WqWGN8febYe1"
      },
      "source": [
        "# escolhendo uma posição aleatória (métodos numéricos para aleatoriedade)\n",
        "def random_place(board, player):\n",
        "  selection = possibilities(board)\n",
        "  current = random.choice(selection)\n",
        "  board[current] = player\n",
        "  return board"
      ],
      "execution_count": 4,
      "outputs": []
    },
    {
      "cell_type": "code",
      "metadata": {
        "id": "57JHUbaZbbDG"
      },
      "source": [
        "# verificar se existe match horizontal\n",
        "def row_win(board, player):\n",
        "  for x in range(len(board)):\n",
        "    win = True\n",
        "\n",
        "    for y in range(len(board)):\n",
        "      if (board[x, y] != player):\n",
        "        win = False\n",
        "        continue\n",
        "    \n",
        "    if win == True:\n",
        "      return win\n",
        "  return win"
      ],
      "execution_count": 5,
      "outputs": []
    },
    {
      "cell_type": "code",
      "metadata": {
        "id": "-VOFujA_byBS"
      },
      "source": [
        "# verificar se existe match vertical\n",
        "def col_win(board, player):\n",
        "  for x in range(len(board)):\n",
        "    win = True\n",
        "\n",
        "    for y in range(len(board)):\n",
        "      if board[y][x] != player:\n",
        "        win = False\n",
        "        continue\n",
        "    \n",
        "    if win == True:\n",
        "      return win\n",
        "  return win"
      ],
      "execution_count": 6,
      "outputs": []
    },
    {
      "cell_type": "code",
      "metadata": {
        "id": "8b-SsBHfb3vZ"
      },
      "source": [
        "# verificar se existe match diagonal\n",
        "def diag_win(board, player):\n",
        "  win = True\n",
        "  y = 0\n",
        "\n",
        "  for x in range(len(board)):\n",
        "    if board[x, x] != player:\n",
        "      win = False\n",
        "\n",
        "  if win:\n",
        "    return win\n",
        "\n",
        "  win = True\n",
        "  if win:\n",
        "    for x in range(len(board)):\n",
        "      y = len(board) -1 -x\n",
        "      if (board[x, y] != player):\n",
        "        win = False\n",
        "  return win"
      ],
      "execution_count": 7,
      "outputs": []
    },
    {
      "cell_type": "code",
      "metadata": {
        "id": "jUTMhltDb59y"
      },
      "source": [
        "\n",
        "# Existe vencedor?\n",
        "def evaluate(board):\n",
        "  winner = 0\n",
        "\n",
        "  for player in [1, 2]:\n",
        "    if (row_win(board, player) or col_win(board, player) or diag_win(board, player)):\n",
        "      winner = player\n",
        "\n",
        "  if (np.all(board != 0) and winner == 0):\n",
        "    winner = -1\n",
        "  return winner"
      ],
      "execution_count": 8,
      "outputs": []
    },
    {
      "cell_type": "code",
      "metadata": {
        "id": "YlMVYaECb-Eb"
      },
      "source": [
        "# main\n",
        "def play_game():\n",
        "  board, winner, counter = create_board(), 0, 1\n",
        "  #print(board, \"\\n\")\n",
        "\n",
        "  while winner == 0:\n",
        "    for player in [1, 2]:\n",
        "      board = random_place(board, player)\n",
        "      #print(\"Status do tabuleiro depois do\", counter, \"° movimento\")\n",
        "      #print(board, \"\\n\")\n",
        "      #sleep(0.5) # pausa visual\n",
        "      counter += 1\n",
        "\n",
        "      winner = evaluate(board)\n",
        "      if winner != 0:\n",
        "        break\n",
        "\n",
        "  return(winner, counter-1)"
      ],
      "execution_count": 9,
      "outputs": []
    },
    {
      "cell_type": "code",
      "metadata": {
        "id": "J03BaZgdvgbT",
        "colab": {
          "base_uri": "https://localhost:8080/"
        },
        "outputId": "0cdb8ce1-479e-4dda-c8a4-03cc9a0167fd"
      },
      "source": [
        "\n",
        "P = int(input(\"Quantidade de jogo para ser simulados: \"))\n",
        "for x in range(0, P):\n",
        "    (winner, movimentos) = play_game()\n",
        "    if (winner < 0):\n",
        "       print(\"Empatou!\")\n",
        "    else:  \n",
        "       print(\"O vencedor é o jogador\", winner, \"com\", movimentos, \"movimentos\")\n",
        "\n"
      ],
      "execution_count": 11,
      "outputs": [
        {
          "output_type": "stream",
          "name": "stdout",
          "text": [
            "Quantidade de jogo para ser simulados: 10\n",
            "O vencedor é o jogador 1 com 7 movimentos\n",
            "O vencedor é o jogador 1 com 7 movimentos\n",
            "O vencedor é o jogador 2 com 8 movimentos\n",
            "O vencedor é o jogador 1 com 9 movimentos\n",
            "O vencedor é o jogador 1 com 9 movimentos\n",
            "O vencedor é o jogador 1 com 7 movimentos\n",
            "O vencedor é o jogador 1 com 5 movimentos\n",
            "O vencedor é o jogador 2 com 8 movimentos\n",
            "O vencedor é o jogador 1 com 7 movimentos\n",
            "O vencedor é o jogador 2 com 8 movimentos\n"
          ]
        }
      ]
    },
    {
      "cell_type": "code",
      "metadata": {
        "id": "SJKsMFpq8m2W"
      },
      "source": [
        "\n",
        "total_E = 0\n",
        " \n",
        "for letras in range(len(s)):\n",
        "    if(s[letras: letras+8] == \"Empatou!\"):\n",
        "        total_E += 1\n",
        "print(total_E)\n",
        "\n",
        "total_E = 0\n",
        "s = \"O vencedor é o jogador 1O vencedor é o jogador 1O vencedor é o jogador 1\" \n",
        "for letras in range(len(s)):\n",
        "    if(s[letras: letras+24] == \"O vencedor é o jogador 1\"):\n",
        "        total_E += 1\n",
        "print(total_E)\n",
        "\n",
        "total_E = 0\n",
        "s = \"O vencedor é o jogador 2\" \n",
        "for letras in range(len(s)):\n",
        "    if(s[letras: letras+24] == \"O vencedor é o jogador 2\"):\n",
        "        total_E += 1\n",
        "print(total_E)\n"
      ],
      "execution_count": null,
      "outputs": []
    }
  ]
}